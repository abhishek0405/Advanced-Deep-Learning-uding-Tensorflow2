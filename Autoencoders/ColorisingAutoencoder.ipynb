{
 "cells": [
  {
   "cell_type": "code",
   "execution_count": 10,
   "metadata": {},
   "outputs": [],
   "source": [
    "import numpy as np\n",
    "import matplotlib.pyplot as plt\n",
    "\n",
    "%matplotlib inline"
   ]
  },
  {
   "cell_type": "code",
   "execution_count": 2,
   "metadata": {},
   "outputs": [],
   "source": [
    "from tensorflow.keras.layers import Dense,Conv2D,Input,Flatten,Reshape,Conv2DTranspose"
   ]
  },
  {
   "cell_type": "code",
   "execution_count": 3,
   "metadata": {},
   "outputs": [],
   "source": [
    "from tensorflow.keras.models import Model\n",
    "from tensorflow.keras.callbacks import ModelCheckpoint,ReduceLROnPlateau\n",
    "from tensorflow.keras.datasets import cifar10\n",
    "from tensorflow.keras.utils import plot_model\n",
    "from tensorflow.keras import backend as K"
   ]
  },
  {
   "cell_type": "code",
   "execution_count": 86,
   "metadata": {},
   "outputs": [],
   "source": [
    "def rgb2gray(rgb):\n",
    "     return np.dot(rgb[:,:,:], [0.2989, 0.5870, 0.1140])"
   ]
  },
  {
   "cell_type": "code",
   "execution_count": 87,
   "metadata": {},
   "outputs": [],
   "source": [
    "(x_train,y_train),(x_test,y_test) = cifar10.load_data()"
   ]
  },
  {
   "cell_type": "code",
   "execution_count": 88,
   "metadata": {},
   "outputs": [
    {
     "data": {
      "text/plain": [
       "<matplotlib.image.AxesImage at 0x2457ad8d348>"
      ]
     },
     "execution_count": 88,
     "metadata": {},
     "output_type": "execute_result"
    },
    {
     "data": {
      "image/png": "[encoded data removed]",
      "text/plain": [
       "<Figure size 432x288 with 1 Axes>"
      ]
     },
     "metadata": {
      "needs_background": "light"
     },
     "output_type": "display_data"
    }
   ],
   "source": [
    "plt.imshow(x_train[12])"
   ]
  },
  {
   "cell_type": "code",
   "execution_count": 89,
   "metadata": {},
   "outputs": [],
   "source": [
    "imrows = x_train.shape[1]\n",
    "imcols=x_train.shape[2]\n",
    "imchannels = x_train.shape[3]"
   ]
  },
  {
   "cell_type": "code",
   "execution_count": 90,
   "metadata": {},
   "outputs": [],
   "source": [
    "x_train_gray = rgb2gray(x_train)\n",
    "x_test_gray = rgb2gray(x_test)"
   ]
  },
  {
   "cell_type": "code",
   "execution_count": 91,
   "metadata": {},
   "outputs": [
    {
     "data": {
      "text/plain": [
       "(50000, 32, 32)"
      ]
     },
     "execution_count": 91,
     "metadata": {},
     "output_type": "execute_result"
    }
   ],
   "source": [
    "x_train_gray.shape"
   ]
  },
  {
   "cell_type": "code",
   "execution_count": 92,
   "metadata": {},
   "outputs": [
    {
     "data": {
      "text/plain": [
       "<matplotlib.image.AxesImage at 0x2457b102088>"
      ]
     },
     "execution_count": 92,
     "metadata": {},
     "output_type": "execute_result"
    },
    {
     "data": {
      "image/png": "[encoded data removed]",
      "text/plain": [
       "<Figure size 432x288 with 1 Axes>"
      ]
     },
     "metadata": {
      "needs_background": "light"
     },
     "output_type": "display_data"
    }
   ],
   "source": [
    "plt.imshow(x_train_gray[12],cmap='gray')"
   ]
  },
  {
   "cell_type": "code",
   "execution_count": 93,
   "metadata": {},
   "outputs": [],
   "source": [
    "#normalize vals bw 0 to 1\n",
    "x_train = x_train/255\n",
    "x_test = x_test/255\n",
    "x_train_gray= x_train_gray/255\n",
    "x_test_gray = x_test_gray/255\n"
   ]
  },
  {
   "cell_type": "code",
   "execution_count": 94,
   "metadata": {},
   "outputs": [],
   "source": [
    "x_train_gray = np.reshape(x_train_gray,(-1,imrows,imcols,1))\n",
    "x_test_gray = np.reshape(x_test_gray,(-1,imrows,imcols,1))\n",
    "layers = [64,128,256]"
   ]
  },
  {
   "cell_type": "code",
   "execution_count": 95,
   "metadata": {},
   "outputs": [],
   "source": [
    "inputs = Input(shape=(imrows,imcols,1))\n",
    "x=inputs\n",
    "for layer in layers:\n",
    "    x = Conv2D(filters=layer,kernel_size=3,strides=2,activation='relu',padding='same')(x) #half w,h\n",
    "#op for cifar- 4*4*256\n",
    "shape = K.int_shape(x)\n",
    "x = Flatten()(x)\n",
    "latent = Dense(256)(x)\n",
    "\n",
    "\n",
    "    \n",
    "\n",
    "\n"
   ]
  },
  {
   "cell_type": "code",
   "execution_count": 96,
   "metadata": {},
   "outputs": [
    {
     "name": "stdout",
     "output_type": "stream",
     "text": [
      "Model: \"model_4\"\n",
      "_________________________________________________________________\n",
      "Layer (type)                 Output Shape              Param #   \n",
      "=================================================================\n",
      "input_7 (InputLayer)         [(None, 32, 32, 1)]       0         \n",
      "_________________________________________________________________\n",
      "conv2d_6 (Conv2D)            (None, 16, 16, 64)        640       \n",
      "_________________________________________________________________\n",
      "conv2d_7 (Conv2D)            (None, 8, 8, 128)         73856     \n",
      "_________________________________________________________________\n",
      "conv2d_8 (Conv2D)            (None, 4, 4, 256)         295168    \n",
      "_________________________________________________________________\n",
      "flatten_2 (Flatten)          (None, 4096)              0         \n",
      "_________________________________________________________________\n",
      "dense_6 (Dense)              (None, 256)               1048832   \n",
      "=================================================================\n",
      "Total params: 1,418,496\n",
      "Trainable params: 1,418,496\n",
      "Non-trainable params: 0\n",
      "_________________________________________________________________\n"
     ]
    }
   ],
   "source": [
    "encoder  = Model(inputs,latent)\n",
    "encoder.summary()"
   ]
  },
  {
   "cell_type": "code",
   "execution_count": 97,
   "metadata": {},
   "outputs": [],
   "source": [
    "#decoder\n",
    "ipdec = Input(shape=(256,))\n",
    "y=ipdec\n",
    "y = Dense(shape[1]*shape[2]*shape[3])(y)\n",
    "y = Reshape((shape[1],shape[2],shape[3]))(y)\n",
    "#y is now 4*4*256\n",
    "for layer in layers[::-1]:\n",
    "    y = Conv2DTranspose(filters=layer,kernel_size=3,strides=2,padding='same',activation='relu')(y)\n",
    "#y is now 32*32*64\n",
    "op = Conv2DTranspose(filters=3,kernel_size=3,activation='sigmoid',padding='same')(y)\n",
    "    \n",
    "    \n"
   ]
  },
  {
   "cell_type": "code",
   "execution_count": 98,
   "metadata": {},
   "outputs": [
    {
     "name": "stdout",
     "output_type": "stream",
     "text": [
      "Model: \"model_5\"\n",
      "_________________________________________________________________\n",
      "Layer (type)                 Output Shape              Param #   \n",
      "=================================================================\n",
      "input_8 (InputLayer)         [(None, 256)]             0         \n",
      "_________________________________________________________________\n",
      "dense_7 (Dense)              (None, 4096)              1052672   \n",
      "_________________________________________________________________\n",
      "reshape_4 (Reshape)          (None, 4, 4, 256)         0         \n",
      "_________________________________________________________________\n",
      "conv2d_transpose_13 (Conv2DT (None, 8, 8, 256)         590080    \n",
      "_________________________________________________________________\n",
      "conv2d_transpose_14 (Conv2DT (None, 16, 16, 128)       295040    \n",
      "_________________________________________________________________\n",
      "conv2d_transpose_15 (Conv2DT (None, 32, 32, 64)        73792     \n",
      "_________________________________________________________________\n",
      "conv2d_transpose_16 (Conv2DT (None, 32, 32, 3)         1731      \n",
      "=================================================================\n",
      "Total params: 2,013,315\n",
      "Trainable params: 2,013,315\n",
      "Non-trainable params: 0\n",
      "_________________________________________________________________\n"
     ]
    }
   ],
   "source": [
    "decoder = Model(ipdec,op)\n",
    "decoder.summary()"
   ]
  },
  {
   "cell_type": "code",
   "execution_count": 99,
   "metadata": {},
   "outputs": [
    {
     "name": "stdout",
     "output_type": "stream",
     "text": [
      "Model: \"model_6\"\n",
      "_________________________________________________________________\n",
      "Layer (type)                 Output Shape              Param #   \n",
      "=================================================================\n",
      "input_7 (InputLayer)         [(None, 32, 32, 1)]       0         \n",
      "_________________________________________________________________\n",
      "model_4 (Model)              (None, 256)               1418496   \n",
      "_________________________________________________________________\n",
      "model_5 (Model)              (None, 32, 32, 3)         2013315   \n",
      "=================================================================\n",
      "Total params: 3,431,811\n",
      "Trainable params: 3,431,811\n",
      "Non-trainable params: 0\n",
      "_________________________________________________________________\n"
     ]
    }
   ],
   "source": [
    "autoencoder = Model(inputs,decoder(encoder(inputs)))\n",
    "autoencoder.summary()"
   ]
  },
  {
   "cell_type": "code",
   "execution_count": 133,
   "metadata": {},
   "outputs": [],
   "source": [
    "checkpoint = ModelCheckpoint(filepath='bestweights.h5',monitor='val_loss',verbose=1,save_best_only=True)\n",
    "autoencoder.compile(loss='mse',optimizer='adam')\n",
    "lrreduce = ReduceLROnPlateau(factor=np.sqrt(0.1),verbose=1,min_lr=0.5e-6)\n",
    "callbacks=[lrreduce,checkpoint]\n",
    "\n",
    "\n"
   ]
  },
  {
   "cell_type": "code",
   "execution_count": 136,
   "metadata": {},
   "outputs": [],
   "source": [
    "autoencoder.load_weights('bestweights.h5')"
   ]
  },
  {
   "cell_type": "code",
   "execution_count": 137,
   "metadata": {},
   "outputs": [
    {
     "name": "stdout",
     "output_type": "stream",
     "text": [
      "Train on 50000 samples, validate on 10000 samples\n",
      "Epoch 1/15\n",
      "49984/50000 [============================>.] - ETA: 0s - loss: 0.0066\n",
      "Epoch 00001: val_loss did not improve from 0.00769\n",
      "50000/50000 [==============================] - 53s 1ms/sample - loss: 0.0066 - val_loss: 0.0079\n",
      "Epoch 2/15\n",
      "49920/50000 [============================>.] - ETA: 0s - loss: 0.0063\n",
      "Epoch 00002: val_loss improved from 0.00769 to 0.00764, saving model to bestweights.h5\n",
      "50000/50000 [==============================] - 36s 727us/sample - loss: 0.0063 - val_loss: 0.0076\n",
      "Epoch 3/15\n",
      "49984/50000 [============================>.] - ETA: 0s - loss: 0.0061\n",
      "Epoch 00003: val_loss did not improve from 0.00764\n",
      "50000/50000 [==============================] - 33s 668us/sample - loss: 0.0061 - val_loss: 0.0077\n",
      "Epoch 4/15\n",
      "49984/50000 [============================>.] - ETA: 0s - loss: 0.0058\n",
      "Epoch 00004: val_loss improved from 0.00764 to 0.00759, saving model to bestweights.h5\n",
      "50000/50000 [==============================] - 34s 687us/sample - loss: 0.0058 - val_loss: 0.0076\n",
      "Epoch 5/15\n",
      "49984/50000 [============================>.] - ETA: 0s - loss: 0.0056\n",
      "Epoch 00005: val_loss did not improve from 0.00759\n",
      "50000/50000 [==============================] - 34s 676us/sample - loss: 0.0056 - val_loss: 0.0079\n",
      "Epoch 6/15\n",
      "49984/50000 [============================>.] - ETA: 0s - loss: 0.0054\n",
      "Epoch 00006: val_loss did not improve from 0.00759\n",
      "50000/50000 [==============================] - 34s 680us/sample - loss: 0.0054 - val_loss: 0.0079\n",
      "Epoch 7/15\n",
      "49984/50000 [============================>.] - ETA: 0s - loss: 0.0052\n",
      "Epoch 00007: val_loss did not improve from 0.00759\n",
      "50000/50000 [==============================] - 34s 674us/sample - loss: 0.0052 - val_loss: 0.0078\n",
      "Epoch 8/15\n",
      "49984/50000 [============================>.] - ETA: 0s - loss: 0.0050\n",
      "Epoch 00008: val_loss did not improve from 0.00759\n",
      "50000/50000 [==============================] - 34s 682us/sample - loss: 0.0050 - val_loss: 0.0077\n",
      "Epoch 9/15\n",
      "49920/50000 [============================>.] - ETA: 0s - loss: 0.0048\n",
      "Epoch 00009: val_loss did not improve from 0.00759\n",
      "50000/50000 [==============================] - 34s 680us/sample - loss: 0.0048 - val_loss: 0.0077\n",
      "Epoch 10/15\n",
      "49984/50000 [============================>.] - ETA: 0s - loss: 0.0047\n",
      "Epoch 00010: val_loss did not improve from 0.00759\n",
      "50000/50000 [==============================] - 34s 675us/sample - loss: 0.0047 - val_loss: 0.0080\n",
      "Epoch 11/15\n",
      "49984/50000 [============================>.] - ETA: 0s - loss: 0.0046\n",
      "Epoch 00011: val_loss did not improve from 0.00759\n",
      "50000/50000 [==============================] - 34s 686us/sample - loss: 0.0046 - val_loss: 0.0078\n",
      "Epoch 12/15\n",
      "49984/50000 [============================>.] - ETA: 0s - loss: 0.0044\n",
      "Epoch 00012: ReduceLROnPlateau reducing learning rate to 0.00031622778103685084.\n",
      "\n",
      "Epoch 00012: val_loss did not improve from 0.00759\n",
      "50000/50000 [==============================] - 34s 681us/sample - loss: 0.0044 - val_loss: 0.0078\n",
      "Epoch 13/15\n",
      "49984/50000 [============================>.] - ETA: 0s - loss: 0.0038\n",
      "Epoch 00013: val_loss improved from 0.00759 to 0.00750, saving model to bestweights.h5\n",
      "50000/50000 [==============================] - 35s 691us/sample - loss: 0.0038 - val_loss: 0.0075\n",
      "Epoch 14/15\n",
      "49984/50000 [============================>.] - ETA: 0s - loss: 0.0037\n",
      "Epoch 00014: val_loss did not improve from 0.00750\n",
      "50000/50000 [==============================] - 34s 676us/sample - loss: 0.0037 - val_loss: 0.0076\n",
      "Epoch 15/15\n",
      "49984/50000 [============================>.] - ETA: 0s - loss: 0.0036\n",
      "Epoch 00015: val_loss did not improve from 0.00750\n",
      "50000/50000 [==============================] - 34s 676us/sample - loss: 0.0036 - val_loss: 0.0076\n"
     ]
    },
    {
     "data": {
      "text/plain": [
       "<tensorflow.python.keras.callbacks.History at 0x2456803b588>"
      ]
     },
     "execution_count": 137,
     "metadata": {},
     "output_type": "execute_result"
    }
   ],
   "source": [
    "autoencoder.fit(x_train_gray,x_train,validation_data=(x_test_gray,x_test),epochs=15,batch_size=64,callbacks=callbacks)"
   ]
  },
  {
   "cell_type": "code",
   "execution_count": 139,
   "metadata": {},
   "outputs": [],
   "source": [
    "colored_images = autoencoder.predict(x_test_gray)"
   ]
  },
  {
   "cell_type": "code",
   "execution_count": 180,
   "metadata": {},
   "outputs": [
    {
     "data": {
      "text/plain": [
       "<matplotlib.image.AxesImage at 0x24572e01d08>"
      ]
     },
     "execution_count": 180,
     "metadata": {},
     "output_type": "execute_result"
    },
    {
     "data": {
      "image/png": "[encoded data removed]",
      "text/plain": [
       "<Figure size 432x288 with 1 Axes>"
      ]
     },
     "metadata": {
      "needs_background": "light"
     },
     "output_type": "display_data"
    }
   ],
   "source": [
    "plt.imshow(np.reshape(x_test_gray[72],(32,32)),cmap='gray')"
   ]
  },
  {
   "cell_type": "code",
   "execution_count": 182,
   "metadata": {},
   "outputs": [
    {
     "data": {
      "text/plain": [
       "<matplotlib.image.AxesImage at 0x24572ed1a88>"
      ]
     },
     "execution_count": 182,
     "metadata": {},
     "output_type": "execute_result"
    },
    {
     "data": {
      "image/png": "[encoded data removed]",
      "text/plain": [
       "<Figure size 432x288 with 1 Axes>"
      ]
     },
     "metadata": {
      "needs_background": "light"
     },
     "output_type": "display_data"
    }
   ],
   "source": [
    "plt.imshow(x_test[72],cmap='gray')"
   ]
  },
  {
   "cell_type": "code",
   "execution_count": 183,
   "metadata": {},
   "outputs": [
    {
     "data": {
      "text/plain": [
       "<matplotlib.image.AxesImage at 0x24572f3b288>"
      ]
     },
     "execution_count": 183,
     "metadata": {},
     "output_type": "execute_result"
    },
    {
     "data": {
      "image/png": "[encoded data removed]",
      "text/plain": [
       "<Figure size 432x288 with 1 Axes>"
      ]
     },
     "metadata": {
      "needs_background": "light"
     },
     "output_type": "display_data"
    }
   ],
   "source": [
    "plt.imshow(colored_images[72],cmap='gray') #predicted image.\n"
   ]
  },
  {
   "cell_type": "code",
   "execution_count": 138,
   "metadata": {},
   "outputs": [],
   "source": [
    "autoencoder.load_weights('bestweights.h5')"
   ]
  },
  {
   "cell_type": "code",
   "execution_count": null,
   "metadata": {},
   "outputs": [],
   "source": []
  }
 ],
 "metadata": {
  "kernelspec": {
   "display_name": "gputest",
   "language": "python",
   "name": "gputest"
  },
  "language_info": {
   "codemirror_mode": {
    "name": "ipython",
    "version": 3
   },
   "file_extension": ".py",
   "mimetype": "text/x-python",
   "name": "python",
   "nbconvert_exporter": "python",
   "pygments_lexer": "ipython3",
   "version": "3.7.7"
  }
 },
 "nbformat": 4,
 "nbformat_minor": 4
}
