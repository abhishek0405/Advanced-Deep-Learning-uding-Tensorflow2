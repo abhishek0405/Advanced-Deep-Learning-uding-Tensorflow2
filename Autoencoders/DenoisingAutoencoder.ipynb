{
 "cells": [
  {
   "cell_type": "code",
   "execution_count": 1,
   "metadata": {},
   "outputs": [],
   "source": [
    "import numpy as np\n",
    "import matplotlib.pyplot as plt\n",
    "%matplotlib inline"
   ]
  },
  {
   "cell_type": "code",
   "execution_count": 2,
   "metadata": {},
   "outputs": [],
   "source": [
    "from tensorflow.keras.layers import Dense,Input,Conv2D,Flatten,Conv2DTranspose,Reshape\n",
    "from tensorflow.keras.models import Model\n",
    "from tensorflow.keras.datasets import mnist\n",
    "from tensorflow.keras.utils import plot_model\n",
    "from tensorflow.keras import backend as K"
   ]
  },
  {
   "cell_type": "code",
   "execution_count": 3,
   "metadata": {},
   "outputs": [],
   "source": [
    "(x_train,y_train),(x_test,y_test) = mnist.load_data()\n",
    "im_size=x_train.shape[1]\n",
    "x_train = np.reshape(x_train,[-1,im_size,im_size,1])\n",
    "x_test = np.reshape(x_test,[-1,im_size,im_size,1])\n",
    "x_train = x_train/255\n",
    "x_test = x_test/255\n"
   ]
  },
  {
   "cell_type": "code",
   "execution_count": 4,
   "metadata": {},
   "outputs": [],
   "source": [
    "##### create a new noisy data\n",
    "noise1 = np.random.normal(loc=0.5,scale=0.5,size=x_train.shape) #noise with mean and std 0.5\n",
    "x_train_noise = x_train+ noise1\n",
    "noise2 = np.random.normal(loc=0.5,scale=0.5,size=x_test.shape)\n",
    "x_test_noise = x_test+noise2"
   ]
  },
  {
   "cell_type": "code",
   "execution_count": 5,
   "metadata": {},
   "outputs": [
    {
     "data": {
      "text/plain": [
       "<matplotlib.image.AxesImage at 0x22bf5d1bb48>"
      ]
     },
     "execution_count": 5,
     "metadata": {},
     "output_type": "execute_result"
    },
    {
     "data": {
      "image/png": "[encoded data removed]",
      "text/plain": [
       "<Figure size 432x288 with 1 Axes>"
      ]
     },
     "metadata": {
      "needs_background": "light"
     },
     "output_type": "display_data"
    }
   ],
   "source": [
    "plt.imshow(np.reshape(x_train_noise[25],(28,28)),cmap='gray')"
   ]
  },
  {
   "cell_type": "code",
   "execution_count": 6,
   "metadata": {},
   "outputs": [
    {
     "data": {
      "text/plain": [
       "<matplotlib.image.AxesImage at 0x22bf5dd6748>"
      ]
     },
     "execution_count": 6,
     "metadata": {},
     "output_type": "execute_result"
    },
    {
     "data": {
      "image/png": "[encoded data removed]",
      "text/plain": [
       "<Figure size 432x288 with 1 Axes>"
      ]
     },
     "metadata": {
      "needs_background": "light"
     },
     "output_type": "display_data"
    }
   ],
   "source": [
    "plt.imshow(np.reshape(x_train[25],(28,28)),cmap='gray')"
   ]
  },
  {
   "cell_type": "code",
   "execution_count": 7,
   "metadata": {},
   "outputs": [],
   "source": [
    "#due to noise addition some pixels may have exceeded 1 while some may have been less than 0.Hence correcting by clipping\n",
    "x_train_noise = np.clip(x_train_noise,0,1) #less than 0 become 0 and greater than one become one.\n",
    "x_test_noise = np.clip(x_test_noise,0,1)"
   ]
  },
  {
   "cell_type": "code",
   "execution_count": 8,
   "metadata": {},
   "outputs": [],
   "source": [
    "ip_shape = (im_size,im_size,1)\n",
    "layers=[32,64]\n",
    "inputs = Input(shape=ip_shape,name='encoder_ip')\n",
    "x=inputs\n",
    "for layer in layers:\n",
    "    x = Conv2D(layer,kernel_size=3,strides=2,padding='same',activation='relu')(x) #2 stride with same padding makes img dims half\n",
    "shape = K.int_shape(x) # would be (b_size,7,7,64) for MNIST\n",
    "#now flatten it\n",
    "x = Flatten()(x)\n",
    "#now add dense layer to make it latent dimensional encoded.\n",
    "latent = Dense(20,name='latent_vec')(x) #don't add relu here.(we need the latent vector itself)\n",
    "\n",
    "encoder = Model(inputs,latent,name='encoder')"
   ]
  },
  {
   "cell_type": "code",
   "execution_count": 9,
   "metadata": {},
   "outputs": [
    {
     "name": "stdout",
     "output_type": "stream",
     "text": [
      "Model: \"encoder\"\n",
      "_________________________________________________________________\n",
      "Layer (type)                 Output Shape              Param #   \n",
      "=================================================================\n",
      "encoder_ip (InputLayer)      [(None, 28, 28, 1)]       0         \n",
      "_________________________________________________________________\n",
      "conv2d (Conv2D)              (None, 14, 14, 32)        320       \n",
      "_________________________________________________________________\n",
      "conv2d_1 (Conv2D)            (None, 7, 7, 64)          18496     \n",
      "_________________________________________________________________\n",
      "flatten (Flatten)            (None, 3136)              0         \n",
      "_________________________________________________________________\n",
      "latent_vec (Dense)           (None, 20)                62740     \n",
      "=================================================================\n",
      "Total params: 81,556\n",
      "Trainable params: 81,556\n",
      "Non-trainable params: 0\n",
      "_________________________________________________________________\n"
     ]
    }
   ],
   "source": [
    "encoder.summary()"
   ]
  },
  {
   "cell_type": "code",
   "execution_count": 10,
   "metadata": {},
   "outputs": [],
   "source": [
    "latent_ip = Input(shape=(20,),name='decoder_ip')\n",
    "y = latent_ip\n",
    "y = Dense(shape[1]*shape[2]*shape[3])(y)\n",
    "y = Reshape((shape[1],shape[2],shape[3]))(y)\n",
    "for layer in layers[::-1]:\n",
    "    y = Conv2DTranspose(filters=layer,kernel_size=3,activation='relu',strides=2,padding='same')(y) #this would double img width,h, half the depth\n",
    "#now shape would be 28*28*32\n",
    "op = Conv2DTranspose(filters=1,padding='same',kernel_size=3,activation='sigmoid')(y)#this gives 28*28*1\n"
   ]
  },
  {
   "cell_type": "code",
   "execution_count": 11,
   "metadata": {},
   "outputs": [
    {
     "name": "stdout",
     "output_type": "stream",
     "text": [
      "Model: \"decoder\"\n",
      "_________________________________________________________________\n",
      "Layer (type)                 Output Shape              Param #   \n",
      "=================================================================\n",
      "decoder_ip (InputLayer)      [(None, 20)]              0         \n",
      "_________________________________________________________________\n",
      "dense (Dense)                (None, 3136)              65856     \n",
      "_________________________________________________________________\n",
      "reshape (Reshape)            (None, 7, 7, 64)          0         \n",
      "_________________________________________________________________\n",
      "conv2d_transpose (Conv2DTran (None, 14, 14, 64)        36928     \n",
      "_________________________________________________________________\n",
      "conv2d_transpose_1 (Conv2DTr (None, 28, 28, 32)        18464     \n",
      "_________________________________________________________________\n",
      "conv2d_transpose_2 (Conv2DTr (None, 28, 28, 1)         289       \n",
      "=================================================================\n",
      "Total params: 121,537\n",
      "Trainable params: 121,537\n",
      "Non-trainable params: 0\n",
      "_________________________________________________________________\n"
     ]
    }
   ],
   "source": [
    "decoder = Model(latent_ip,op,name='decoder')\n",
    "decoder.summary()"
   ]
  },
  {
   "cell_type": "code",
   "execution_count": 12,
   "metadata": {},
   "outputs": [
    {
     "name": "stdout",
     "output_type": "stream",
     "text": [
      "Model: \"autoencoder\"\n",
      "_________________________________________________________________\n",
      "Layer (type)                 Output Shape              Param #   \n",
      "=================================================================\n",
      "encoder_ip (InputLayer)      [(None, 28, 28, 1)]       0         \n",
      "_________________________________________________________________\n",
      "encoder (Model)              (None, 20)                81556     \n",
      "_________________________________________________________________\n",
      "decoder (Model)              (None, 28, 28, 1)         121537    \n",
      "=================================================================\n",
      "Total params: 203,093\n",
      "Trainable params: 203,093\n",
      "Non-trainable params: 0\n",
      "_________________________________________________________________\n"
     ]
    }
   ],
   "source": [
    "autoencoder = Model(inputs,decoder(encoder(inputs)),name='autoencoder')\n",
    "autoencoder.summary()"
   ]
  },
  {
   "cell_type": "code",
   "execution_count": 13,
   "metadata": {},
   "outputs": [],
   "source": [
    "autoencoder.compile(optimizer='adam',loss='mse')"
   ]
  },
  {
   "cell_type": "code",
   "execution_count": 14,
   "metadata": {},
   "outputs": [
    {
     "name": "stdout",
     "output_type": "stream",
     "text": [
      "Train on 60000 samples, validate on 10000 samples\n",
      "Epoch 1/15\n",
      "60000/60000 [==============================] - 34s 561us/sample - loss: 0.0333 - val_loss: 0.0184\n",
      "Epoch 2/15\n",
      "60000/60000 [==============================] - 29s 485us/sample - loss: 0.0172 - val_loss: 0.0161\n",
      "Epoch 3/15\n",
      "60000/60000 [==============================] - 29s 484us/sample - loss: 0.0158 - val_loss: 0.0154\n",
      "Epoch 4/15\n",
      "60000/60000 [==============================] - 29s 485us/sample - loss: 0.0151 - val_loss: 0.0150\n",
      "Epoch 5/15\n",
      "60000/60000 [==============================] - 30s 492us/sample - loss: 0.0147 - val_loss: 0.0147\n",
      "Epoch 6/15\n",
      "60000/60000 [==============================] - 30s 492us/sample - loss: 0.0143 - val_loss: 0.0147\n",
      "Epoch 7/15\n",
      "60000/60000 [==============================] - 30s 508us/sample - loss: 0.0141 - val_loss: 0.0145\n",
      "Epoch 8/15\n",
      "60000/60000 [==============================] - 30s 506us/sample - loss: 0.0139 - val_loss: 0.0144\n",
      "Epoch 9/15\n",
      "60000/60000 [==============================] - 31s 522us/sample - loss: 0.0137 - val_loss: 0.0143\n",
      "Epoch 10/15\n",
      "60000/60000 [==============================] - 31s 508us/sample - loss: 0.0135 - val_loss: 0.0143\n",
      "Epoch 11/15\n",
      "60000/60000 [==============================] - 32s 527us/sample - loss: 0.0134 - val_loss: 0.0142\n",
      "Epoch 12/15\n",
      "60000/60000 [==============================] - 31s 517us/sample - loss: 0.0133 - val_loss: 0.0142\n",
      "Epoch 13/15\n",
      "60000/60000 [==============================] - 31s 521us/sample - loss: 0.0132 - val_loss: 0.0141\n",
      "Epoch 14/15\n",
      "60000/60000 [==============================] - 32s 526us/sample - loss: 0.0131 - val_loss: 0.0143\n",
      "Epoch 15/15\n",
      "60000/60000 [==============================] - 33s 545us/sample - loss: 0.0131 - val_loss: 0.0142\n"
     ]
    },
    {
     "data": {
      "text/plain": [
       "<tensorflow.python.keras.callbacks.History at 0x22bb7252d88>"
      ]
     },
     "execution_count": 14,
     "metadata": {},
     "output_type": "execute_result"
    }
   ],
   "source": [
    "autoencoder.fit(x_train_noise,x_train,validation_data=(x_test_noise,x_test),epochs=15,batch_size=32) #validate with x_test,x_test(as we want same ip)\n"
   ]
  },
  {
   "cell_type": "code",
   "execution_count": 15,
   "metadata": {},
   "outputs": [],
   "source": [
    "decoded_x = autoencoder.predict(x_test_noise)"
   ]
  },
  {
   "cell_type": "code",
   "execution_count": 25,
   "metadata": {},
   "outputs": [
    {
     "data": {
      "text/plain": [
       "<matplotlib.image.AxesImage at 0x22ccb0b6a48>"
      ]
     },
     "execution_count": 25,
     "metadata": {},
     "output_type": "execute_result"
    },
    {
     "data": {
      "image/png": "[encoded data removed]",
      "text/plain": [
       "<Figure size 432x288 with 1 Axes>"
      ]
     },
     "metadata": {
      "needs_background": "light"
     },
     "output_type": "display_data"
    }
   ],
   "source": [
    "plt.imshow(np.reshape(x_test_noise[26],(28,28)),cmap='gray') #noisy input"
   ]
  },
  {
   "cell_type": "code",
   "execution_count": 26,
   "metadata": {},
   "outputs": [
    {
     "data": {
      "text/plain": [
       "<matplotlib.image.AxesImage at 0x22bb7061c48>"
      ]
     },
     "execution_count": 26,
     "metadata": {},
     "output_type": "execute_result"
    },
    {
     "data": {
      "image/png": "[encoded data removed]",
      "text/plain": [
       "<Figure size 432x288 with 1 Axes>"
      ]
     },
     "metadata": {
      "needs_background": "light"
     },
     "output_type": "display_data"
    }
   ],
   "source": [
    "plt.imshow(np.reshape(x_test[26],(28,28)),cmap='gray') #og output"
   ]
  },
  {
   "cell_type": "code",
   "execution_count": 27,
   "metadata": {},
   "outputs": [
    {
     "data": {
      "text/plain": [
       "<matplotlib.image.AxesImage at 0x22cf072de48>"
      ]
     },
     "execution_count": 27,
     "metadata": {},
     "output_type": "execute_result"
    },
    {
     "data": {
      "image/png": "[encoded data removed]",
      "text/plain": [
       "<Figure size 432x288 with 1 Axes>"
      ]
     },
     "metadata": {
      "needs_background": "light"
     },
     "output_type": "display_data"
    }
   ],
   "source": [
    "plt.imshow(np.reshape(decoded_x[26],(28,28)),cmap='gray') # op generated by autoencoder."
   ]
  },
  {
   "cell_type": "code",
   "execution_count": null,
   "metadata": {},
   "outputs": [],
   "source": []
  }
 ],
 "metadata": {
  "kernelspec": {
   "display_name": "gputest",
   "language": "python",
   "name": "gputest"
  },
  "language_info": {
   "codemirror_mode": {
    "name": "ipython",
    "version": 3
   },
   "file_extension": ".py",
   "mimetype": "text/x-python",
   "name": "python",
   "nbconvert_exporter": "python",
   "pygments_lexer": "ipython3",
   "version": "3.7.7"
  }
 },
 "nbformat": 4,
 "nbformat_minor": 4
}
